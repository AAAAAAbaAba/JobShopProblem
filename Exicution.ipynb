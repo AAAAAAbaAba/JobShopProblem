{
 "cells": [
  {
   "cell_type": "code",
   "execution_count": 1,
   "metadata": {},
   "outputs": [],
   "source": [
    "from General_function import *\n",
    "from GA_function import *\n",
    "import random\n",
    "import numpy as np"
   ]
  },
  {
   "cell_type": "code",
   "execution_count": 2,
   "metadata": {},
   "outputs": [],
   "source": [
    "target = 'la02'"
   ]
  },
  {
   "cell_type": "code",
   "execution_count": 3,
   "metadata": {},
   "outputs": [
    {
     "name": "stdout",
     "output_type": "stream",
     "text": [
      "数据集la02理论最优值：655\n",
      "第0代种群，Cmax=759.0\n",
      "第10代种群，Cmax=677.0\n",
      "第20代种群，Cmax=671.0\n",
      "第30代种群，Cmax=671.0\n",
      "第40代种群，Cmax=664.0\n"
     ]
    }
   ],
   "source": [
    "C_history = []\n",
    "ga = GeneticAlgorithm(target)\n",
    "\n",
    "print(f'数据集{target}理论最优值：{ga.Optimum}')\n",
    "print(f'第0代种群，Cmax={ga.C_max}')\n",
    "C_history.append(ga.C_max)\n",
    "for gen in range(1, 501):\n",
    "    cross_index1 = np.array(ga.Fit).argmax()\n",
    "    for cross_index2 in range(ga.PopSize):\n",
    "        if (random.random() <= ga.P_Cross) and (cross_index1 != cross_index2):\n",
    "            ga.Cross(cross_index1, cross_index2)\n",
    "\n",
    "    for mutation_index in range(ga.PopSize):\n",
    "        if (random.random() <= ga.P_Mutation) and (cross_index1 != mutation_index):\n",
    "            ga.Mutation(mutation_index)\n",
    "\n",
    "    if gen % 10 == 0:\n",
    "        print(f'第{gen}代种群，Cmax={ga.C_max}')\n",
    "    C_history.append(ga.C_max)\n",
    "\n",
    "    if ga.C_max == ga.Optimum:\n",
    "        break"
   ]
  },
  {
   "cell_type": "code",
   "execution_count": null,
   "metadata": {},
   "outputs": [],
   "source": [
    "draw_Gantt(ga.T_op)"
   ]
  },
  {
   "cell_type": "code",
   "execution_count": null,
   "metadata": {},
   "outputs": [],
   "source": [
    "plt.plot(C_history)"
   ]
  }
 ],
 "metadata": {
  "kernelspec": {
   "display_name": "base",
   "language": "python",
   "name": "python3"
  },
  "language_info": {
   "codemirror_mode": {
    "name": "ipython",
    "version": 3
   },
   "file_extension": ".py",
   "mimetype": "text/x-python",
   "name": "python",
   "nbconvert_exporter": "python",
   "pygments_lexer": "ipython3",
   "version": "3.9.12"
  }
 },
 "nbformat": 4,
 "nbformat_minor": 2
}
